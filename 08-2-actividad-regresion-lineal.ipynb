{
 "cells": [
  {
   "cell_type": "markdown",
   "metadata": {
    "id": "Zlev5tghCy2G"
   },
   "source": [
    "# Actividad - Regresión Lineal"
   ]
  },
  {
   "cell_type": "code",
   "execution_count": null,
   "metadata": {
    "id": "h-64mxGb2miF"
   },
   "outputs": [],
   "source": [
    "# !pip install numpy scipy matplotlib seaborn scikit-learn -q"
   ]
  },
  {
   "cell_type": "markdown",
   "metadata": {
    "id": "UzLPBnd5C4xy"
   },
   "source": [
    "* **Nombre:**\n",
    "* **Matrícula:**"
   ]
  },
  {
   "cell_type": "markdown",
   "metadata": {
    "id": "CIeakL6CDCTC"
   },
   "source": [
    "**Entregar:** Una vez que hayas terminado, sube el Cuaderno en la actividad correspondiente en Canvas. **Nota:** Recuerda habrá una penalización de **40** puntos si la actividad fue entregada fuera de la fecha límite.\n",
    "**Importante**:\n",
    "  * Colocar nombres de ejes en gráficas.\n",
    "  * Títulos en las gráficas.\n",
    "  * Contestar cada pregunta."
   ]
  },
  {
   "cell_type": "markdown",
   "metadata": {
    "id": "tU8Hn1jdDNTc"
   },
   "source": [
    "Carga el conjunto de datos `presion.csv` (se encuentra en el repositorio de la clase) y realiza un análisis estadístico de las variables."
   ]
  },
  {
   "cell_type": "code",
   "execution_count": null,
   "metadata": {
    "id": "7ehdNB9iDBi7"
   },
   "outputs": [],
   "source": [
    "# Carga las librerías necesarias."
   ]
  },
  {
   "cell_type": "code",
   "execution_count": null,
   "metadata": {
    "id": "vvPwkAtkDasd"
   },
   "outputs": [],
   "source": [
    "# Carga el conjunto de datos al ambiente de Google Colab y muestra los primeros\n",
    "# 6 renglones."
   ]
  },
  {
   "cell_type": "markdown",
   "metadata": {
    "id": "HjeUwH4QE7QZ"
   },
   "source": [
    "El conjunto de datos contiene información demográfica sobre los asegurados en una compañía de seguros:\n",
    "* **Age**: Edad de la persona.\n",
    "* **Average of ap_hi**: Promedio de presión alta.\n",
    "* **Average of ap_lo**: Promedio de presión baja."
   ]
  },
  {
   "cell_type": "code",
   "execution_count": null,
   "metadata": {
    "id": "5dD7I6aKDej4"
   },
   "outputs": [],
   "source": [
    "# Grafica la información de la edad y presión alta"
   ]
  },
  {
   "cell_type": "code",
   "execution_count": null,
   "metadata": {
    "id": "pZUxcJb9EEQn"
   },
   "outputs": [],
   "source": [
    "# Grafica la información de la edad y presión alta"
   ]
  },
  {
   "cell_type": "markdown",
   "metadata": {
    "id": "xmE4DAgV1-cV"
   },
   "source": [
    "Genera una regresión líneal para obtener una aproximación de la ecuación\n",
    "$$ y = ax + b $$\n",
    "donde $ a $ se conoce comúnmente como **pendiente**, y $ b $ se conoce comúnmente como **intersección**, tanto para presión alta como la presión baja."
   ]
  },
  {
   "cell_type": "code",
   "execution_count": null,
   "metadata": {
    "id": "ZpWI2bbM2VhT"
   },
   "outputs": [],
   "source": [
    "# ¿Cuál es el valor de a y cuál es el valor de b para la presión alta?"
   ]
  },
  {
   "cell_type": "code",
   "execution_count": null,
   "metadata": {
    "id": "zfAovcIj2aDq"
   },
   "outputs": [],
   "source": [
    "# ¿Cuál es el valor de a y cuál es el valor de b para la presión baja?"
   ]
  },
  {
   "cell_type": "markdown",
   "metadata": {
    "id": "BHcPbc-62cSv"
   },
   "source": [
    "Gráfica los datos reales contra los obtenidos con el modelo. Se debe visualizar los datos reales (azúl), recta del modelo (negro)y distancias entre ambos. (verde)"
   ]
  },
  {
   "cell_type": "code",
   "execution_count": null,
   "metadata": {
    "id": "QcsqHm1iFmFX"
   },
   "outputs": [],
   "source": [
    "# Presión alta"
   ]
  },
  {
   "cell_type": "code",
   "execution_count": null,
   "metadata": {
    "id": "oHueQgzsEm5V"
   },
   "outputs": [],
   "source": [
    "# Presión baja"
   ]
  },
  {
   "cell_type": "markdown",
   "metadata": {
    "id": "g864g0TD20l-"
   },
   "source": [
    "¿Cual es la presión arterial atal y baja para una persona de cierta edad? Genera dos funciones que calculen los anterior."
   ]
  },
  {
   "cell_type": "code",
   "execution_count": null,
   "metadata": {
    "id": "lJs6pUN0FvUn"
   },
   "outputs": [],
   "source": [
    "def pressure_low(age):\n",
    "  return\n",
    "\n",
    "query_age= 76\n",
    "pressure_low(query_age)"
   ]
  },
  {
   "cell_type": "code",
   "execution_count": null,
   "metadata": {
    "id": "N4ZCiN343Nyp"
   },
   "outputs": [],
   "source": [
    "def pressure_high(age):\n",
    "  return\n",
    "\n",
    "query_age= 76\n",
    "pressure_high(query_age)"
   ]
  }
 ],
 "metadata": {
  "colab": {
   "provenance": []
  },
  "kernelspec": {
   "display_name": "Python 3",
   "name": "python3"
  },
  "language_info": {
   "name": "python"
  }
 },
 "nbformat": 4,
 "nbformat_minor": 0
}
