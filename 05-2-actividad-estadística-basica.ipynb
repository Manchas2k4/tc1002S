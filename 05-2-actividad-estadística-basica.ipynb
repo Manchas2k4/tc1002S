{
 "cells": [
  {
   "cell_type": "markdown",
   "metadata": {
    "id": "Zlev5tghCy2G"
   },
   "source": [
    "# Actividad - Estadística básica"
   ]
  },
  {
   "cell_type": "code",
   "execution_count": null,
   "metadata": {
    "id": "M-ksutIr2zDh"
   },
   "outputs": [],
   "source": [
    "# !pip install numpy scipy matplotlib seaborn scikit-learn -q"
   ]
  },
  {
   "cell_type": "markdown",
   "metadata": {
    "id": "UzLPBnd5C4xy"
   },
   "source": [
    "* **Nombre:**\n",
    "* **Matrícula:**"
   ]
  },
  {
   "cell_type": "markdown",
   "metadata": {
    "id": "CIeakL6CDCTC"
   },
   "source": [
    "**Entregar:** Una vez que hayas terminado, sube el Cuaderno en la actividad correspondiente en Canvas. **Nota:** Recuerda habrá una penalización de **40** puntos si la actividad fue entregada fuera de la fecha límite."
   ]
  },
  {
   "cell_type": "markdown",
   "metadata": {
    "id": "tU8Hn1jdDNTc"
   },
   "source": [
    "Carga el conjunto de datos `insurance.csv` (se encuentra en el repositorio de la clase) y realiza un análisis estadístico de las variables."
   ]
  },
  {
   "cell_type": "code",
   "execution_count": null,
   "metadata": {
    "id": "7ehdNB9iDBi7"
   },
   "outputs": [],
   "source": [
    "# Carga las librerías necesarias."
   ]
  },
  {
   "cell_type": "code",
   "execution_count": null,
   "metadata": {
    "id": "vvPwkAtkDasd"
   },
   "outputs": [],
   "source": [
    "# Carga el conjunto de datos al ambiente de Google Colab y muestra los primeros\n",
    "# 6 renglones."
   ]
  },
  {
   "cell_type": "markdown",
   "metadata": {
    "id": "HjeUwH4QE7QZ"
   },
   "source": [
    "El conjunto de datos contiene información demográfica sobre los asegurados en una compañía de seguros:\n",
    "* **age**: Edad del asegurado principal\n",
    "* **sex**: Género del asegurado. female o male\n",
    "* **bmi**: Índice de masa corporal\n",
    "* **children**: Número de hijos que estan cubiertos con la poliza.\n",
    "* **smoke**: ¿El beneficiario fuma? (*yes*/*no*)\n",
    "* **region**: ¿Dónde vive el beneficiario? Estos datos son de Estados Unidos. Regiones disponibles: northeast, southeast, southwest, northwest\n",
    "* **charges**: Costo del seguro."
   ]
  },
  {
   "cell_type": "code",
   "execution_count": null,
   "metadata": {
    "id": "5dD7I6aKDej4"
   },
   "outputs": [],
   "source": [
    "# Crea una tabla resumen con los estadísticas generales de las variables\n",
    "# numéricas."
   ]
  },
  {
   "cell_type": "code",
   "execution_count": null,
   "metadata": {
    "id": "pZUxcJb9EEQn"
   },
   "outputs": [],
   "source": [
    "# ¿Cómo se correlacionan las varaibles numéricas entre sí?"
   ]
  },
  {
   "cell_type": "code",
   "execution_count": null,
   "metadata": {
    "id": "QcsqHm1iFmFX"
   },
   "outputs": [],
   "source": [
    "# Determina si existe o no una correlación entre el índice de masa corporal\n",
    "# (bmi) y el costo del seguro."
   ]
  },
  {
   "cell_type": "code",
   "execution_count": null,
   "metadata": {
    "id": "oHueQgzsEm5V"
   },
   "outputs": [],
   "source": [
    "# ¿Cuántas personas aseguradas son hombre y cuántas son mujeres?"
   ]
  },
  {
   "cell_type": "code",
   "execution_count": null,
   "metadata": {
    "id": "lJs6pUN0FvUn"
   },
   "outputs": [],
   "source": [
    "# ¿Cuántos hombres y mujeres asegurados viven en cada región?"
   ]
  },
  {
   "cell_type": "code",
   "execution_count": null,
   "metadata": {
    "id": "1HPo_9jUF2Zo"
   },
   "outputs": [],
   "source": [
    "# En promedio, ¿quién paga más de cuota de seguro? ¿Los fumadores o los no\n",
    "# fumadores? Muéstralo con los datos."
   ]
  },
  {
   "cell_type": "code",
   "execution_count": null,
   "metadata": {
    "id": "iQIHjrouGAa2"
   },
   "outputs": [],
   "source": [
    "# ¿Cuáles son las cuotas mínimas y máximas que las personan pagan dependiendo\n",
    "# del género y del número de hijos?"
   ]
  },
  {
   "cell_type": "code",
   "execution_count": null,
   "metadata": {
    "id": "cY6A6FrTGKLx"
   },
   "outputs": [],
   "source": [
    "# ¿Cuál es el índice de masa corporal promedio para hombre y mujeres dependiendo\n",
    "# región en la que viven y si son fumadores? ¿Impacta eso en la tarifa del\n",
    "# seguro?"
   ]
  }
 ],
 "metadata": {
  "colab": {
   "authorship_tag": "ABX9TyOvVxs4CW5o+bLb00xsoI1Y",
   "provenance": []
  },
  "kernelspec": {
   "display_name": "Python 3",
   "name": "python3"
  },
  "language_info": {
   "name": "python"
  }
 },
 "nbformat": 4,
 "nbformat_minor": 0
}
