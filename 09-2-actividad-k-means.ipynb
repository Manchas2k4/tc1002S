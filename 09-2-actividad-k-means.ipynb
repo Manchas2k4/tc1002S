{
 "cells": [
  {
   "cell_type": "markdown",
   "metadata": {
    "id": "Zlev5tghCy2G"
   },
   "source": [
    "# Actividad - K-Means"
   ]
  },
  {
   "cell_type": "markdown",
   "metadata": {
    "id": "UzLPBnd5C4xy"
   },
   "source": [
    "* **Nombre:**\n",
    "* **Matrícula:**"
   ]
  },
  {
   "cell_type": "code",
   "execution_count": 1,
   "metadata": {
    "executionInfo": {
     "elapsed": 8875,
     "status": "ok",
     "timestamp": 1741707395527,
     "user": {
      "displayName": "Pedro Oscar Pérez Murueta",
      "userId": "06271884207723677071"
     },
     "user_tz": 360
    },
    "id": "JlqId0AQ2U-H"
   },
   "outputs": [],
   "source": [
    "# !pip install numpy scipy matplotlib seaborn scikit-learn -q"
   ]
  },
  {
   "cell_type": "markdown",
   "metadata": {
    "id": "CIeakL6CDCTC"
   },
   "source": [
    "**Entregar:** Una vez que hayas terminado, sube el Cuaderno en la actividad correspondiente en Canvas. **Nota:** Recuerda habrá una penalización de **40** puntos si la actividad fue entregada fuera de la fecha límite."
   ]
  },
  {
   "cell_type": "markdown",
   "metadata": {
    "id": "tU8Hn1jdDNTc"
   },
   "source": [
    "Carga el conjunto de datos `bestsellers with categories.csv` (se encuentra en el repositorio de la clase) y realiza un análisis estadístico de las variables."
   ]
  },
  {
   "cell_type": "code",
   "execution_count": null,
   "metadata": {
    "id": "7ehdNB9iDBi7"
   },
   "outputs": [],
   "source": [
    "# Carga las librerías necesarias."
   ]
  },
  {
   "cell_type": "code",
   "execution_count": null,
   "metadata": {
    "id": "vvPwkAtkDasd"
   },
   "outputs": [],
   "source": [
    "# Carga el conjunto de datos al ambiente de Google Colab y muestra los primeros\n",
    "# 6 renglones."
   ]
  },
  {
   "cell_type": "markdown",
   "metadata": {
    "id": "HjeUwH4QE7QZ"
   },
   "source": [
    "El conjunto de datos es una tabla que contiene el top 50 de los libros más vendidos por Amazon por año desde 2009 hasta 2019. Cada libro está clasificado como Ficción o No ficción.\n",
    "\n",
    "Las variables que contiene son:\n",
    "* **Name**: Nombre del libro.\n",
    "* **Author**: Autor.\n",
    "* **User Rating**: Calificación promedio que los usuarios asignaron al libro (1-5).\n",
    "* **Reviews**: Número de reseñas.\n",
    "* **Price**: Precio del libro.\n",
    "* **Year**: Año de publicación.\n",
    "* **Genre**: Género literario (ficción/no ficción)."
   ]
  },
  {
   "cell_type": "markdown",
   "metadata": {
    "id": "yJJG546x0cSe"
   },
   "source": [
    "## Análisis estadístico\n",
    "1. Carga la tabla de datos y haz un análisis estadístico de las variables.\n",
    "* Verifica la cantidad de datos que tienes, las variables que contiene cada vector de datos e identifica el tipo de variables.\n",
    "* Analiza las variables para saber que representa cada una y en que rangos se encuentran. Si la descripción del problema no te lo indica, utiliza el máximo y el mínimo para encontrarlo.\n",
    "* Basándote en la media, mediana y desviación estándar de cada variable, ¿qué conclusiones puedes entregar de los datos?\n",
    "* Calcula la correlación de las variables que consideres relevantes."
   ]
  },
  {
   "cell_type": "code",
   "execution_count": null,
   "metadata": {
    "id": "HmMvv5Zn0yFZ"
   },
   "outputs": [],
   "source": [
    "# Escribe el código necesario para realizar el análisis estadístico descrito\n",
    "# anteriorment."
   ]
  },
  {
   "cell_type": "markdown",
   "metadata": {
    "id": "GlA5IOHo0ttO"
   },
   "source": [
    "¿Cuáles son las variables relevantes e irrelevantes para el análisis?"
   ]
  },
  {
   "cell_type": "markdown",
   "metadata": {
    "id": "KziVM1L80961"
   },
   "source": [
    "** Escribe la respuesta **"
   ]
  },
  {
   "cell_type": "markdown",
   "metadata": {
    "id": "InGME9Vm1GCi"
   },
   "source": [
    "## Análisis gráfico"
   ]
  },
  {
   "cell_type": "markdown",
   "metadata": {
    "id": "VL97gKC71JxD"
   },
   "source": [
    "Realiza el análisis de las variables usando diagramas de cajas y bigotes, histogramas y mapas de calor.\n",
    "\n",
    "Responde las siguientes preguntas:\n",
    "* ¿Hay alguna variable que no aporta información? Si tuvieras que eliminar variables, ¿cuáles quitarías y por qué?\n",
    "* ¿Existen variables que tengan datos extraños?\n",
    "* Si comparas las variables, ¿todas están en rangos similares? ¿Crees que esto afecte?\n",
    "* ¿Puedes encontrar grupos qué se parezcan? ¿Qué grupos son estos?\n",
    "\n",
    "Haz un análisis estadístico de los datos antes de empezar con la segmentación. Debe contener al menos:\n",
    "* 1 gráfico de caja (boxplot)\n",
    "* 1 mapa de calor\n",
    "* 1 gráfico de dispersión\n",
    "   \n",
    "Describe brevemente las conclusiones que se pueden obtener con las gráficas."
   ]
  },
  {
   "cell_type": "code",
   "execution_count": null,
   "metadata": {
    "id": "gTUNEvfi1Xsi"
   },
   "outputs": [],
   "source": []
  },
  {
   "cell_type": "markdown",
   "metadata": {
    "id": "SjXAdNmf1YDK"
   },
   "source": [
    "** Escribe tus conclusiones **"
   ]
  },
  {
   "cell_type": "markdown",
   "metadata": {
    "id": "YZxGzhZ01e98"
   },
   "source": [
    "## Clústering"
   ]
  },
  {
   "cell_type": "markdown",
   "metadata": {
    "id": "8-rYNBbF1hML"
   },
   "source": [
    "Una vez que hayas realizado un análisis preliminar, haz una segmentación utilizando el método de K-Means. Justifica el número de clusters que elegiste.\n",
    "* Determina un valor de $k$\n",
    "* Calcula los centros de los grupos resultantes del algoritmo k-means\n",
    "\n",
    "Basado en los centros responde las siguientes preguntas\n",
    "- ¿Crees que estos centros puedan ser representativos de los datos? ¿Por qué?\n",
    "- ¿Cómo obtuviste el valor de $k$ a usar?\n",
    "- ¿Los centros serían más representativos si usaras un valor más alto? ¿Más bajo?\n",
    "- ¿Qué pasaría con los centros si tuviéramos muchos outliers en el análisis de cajas y bigotes?\n",
    "- ¿Qué puedes decir de los datos basándose en los centros?"
   ]
  },
  {
   "cell_type": "code",
   "execution_count": null,
   "metadata": {
    "id": "b7oq0NSe1u_r"
   },
   "outputs": [],
   "source": [
    "# Implementa el algoritmo de kmeans y justifica la elección del número de\n",
    "# clusters. Usa las variables numéricas."
   ]
  },
  {
   "cell_type": "markdown",
   "metadata": {
    "id": "ijrjXbDG11ci"
   },
   "source": [
    "Analiza las características de cada grupo. ¿Qué nombre le pondrías a cada segmento?"
   ]
  },
  {
   "cell_type": "markdown",
   "metadata": {
    "id": "c3iYipld15Kr"
   },
   "source": [
    "** Escribe la respuesta **"
   ]
  },
  {
   "cell_type": "code",
   "execution_count": null,
   "metadata": {
    "id": "2y6G2hb81zjX"
   },
   "outputs": [],
   "source": [
    "# Haz un análisis por grupo para determinar las características que los hace\n",
    "# únicos. Ten en cuenta todas las variables numéricas."
   ]
  },
  {
   "cell_type": "code",
   "execution_count": null,
   "metadata": {
    "id": "hFfvvzbX1-bS"
   },
   "outputs": [],
   "source": [
    "# Grafica los grupos con un pairplot y con un scatterplot en 3D\n",
    "# (si es necesario). Analiza las características de cada grupo."
   ]
  }
 ],
 "metadata": {
  "colab": {
   "provenance": []
  },
  "kernelspec": {
   "display_name": "Python 3",
   "name": "python3"
  },
  "language_info": {
   "name": "python"
  }
 },
 "nbformat": 4,
 "nbformat_minor": 0
}
