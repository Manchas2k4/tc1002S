{
  "cells": [
    {
      "cell_type": "markdown",
      "metadata": {
        "id": "Dh6PLdu_9Q7P"
      },
      "source": [
        "# Introducción a Google Colab"
      ]
    },
    {
      "cell_type": "markdown",
      "metadata": {
        "id": "nZG7VzRH9VWa"
      },
      "source": [
        "* **Google Colab** es un entorno de máquinas virtuales basado en *Jupyter Notebooks*.\n",
        "* Nos permite ejecutar programas en la nube. Solo es necesario tener un navegador Web.\n",
        "* Es posible elegir si el entorno se ejecuta en CPU, GPU o TPU (Tensor Processing Unit) de forma gratuita.\n",
        "* El entorno ya viene con muchas librerías instalas que podemos utilizar. Y, además, podemos instalar más librerías, en caso de ser necesario.\n",
        "* Sin embargo, existen algunas restricciones que tenemos que considerar.\n",
        "  * La sesión dura 12 horas. Pasado este tiempo, se limpia nuestro entorno y tendremos que ejecutar todo nuevamente.\n",
        "  * Los recursos que utilizamos (CPU, RAM) son compartidos, así que estamos sujetos a disponibilidad."
      ]
    },
    {
      "cell_type": "markdown",
      "metadata": {
        "id": "t6xelRAz-rYd"
      },
      "source": [
        "# Tipos de celda"
      ]
    },
    {
      "cell_type": "markdown",
      "metadata": {
        "id": "KsptXsYo-v7n"
      },
      "source": [
        "* En Google Colab disponemos de celdas de código y celdas de texto (markdown) que pueden ir intercaladas entre sí.\n",
        "* Para insertar celdas, solo colacamos el cursos en medio de dos celdas y nos aparecerá la opción de agregar una nueva celda de código o texto."
      ]
    },
    {
      "cell_type": "markdown",
      "metadata": {
        "id": "AiaN0Z9DArGO"
      },
      "source": [
        "##Celdas de código"
      ]
    },
    {
      "cell_type": "code",
      "execution_count": null,
      "metadata": {
        "colab": {
          "base_uri": "https://localhost:8080/"
        },
        "id": "BzFGIPKS_Myu",
        "outputId": "85063963-f1b7-44cd-f0f5-9dcdf917a8eb"
      },
      "outputs": [
        {
          "name": "stdout",
          "output_type": "stream",
          "text": [
            "¡Hola mundo\n"
          ]
        }
      ],
      "source": [
        "# Esta una celda de código\n",
        "print(\"¡Hola mundo\")"
      ]
    },
    {
      "cell_type": "markdown",
      "metadata": {
        "id": "cgwbjg40AxEz"
      },
      "source": [
        "## Celdas de texto"
      ]
    },
    {
      "cell_type": "markdown",
      "metadata": {
        "id": "9rJEYePWA0Ai"
      },
      "source": [
        "La celda de texto pueden llevar:\n",
        "\n",
        "\"#Título\"\n",
        "\n",
        "\"##Subtítulo\"\n",
        "\n",
        "\"###De hecho, diferentes niveles de subtítulos\".\n",
        "\n",
        "También podemos colocar texto en **negritas** o en *cursiva*. Podemos insertar hipervínculos a [páginas Web](https://tec.mx/es) o [imágenes](https://www.enroll-u.com/_i/1/7/7/4ecd9be0-eec4-11e9-9992-0231b47980f0.jpeg).\n",
        "\n",
        "Además,\n",
        "* Podemos hacer listas con viñetas.\n",
        "2. También con números."
      ]
    },
    {
      "cell_type": "markdown",
      "metadata": {
        "id": "aNQTgMviBnXa"
      },
      "source": [
        "#Trabajando con Google Colab"
      ]
    },
    {
      "cell_type": "markdown",
      "metadata": {
        "id": "w4B3oaBoBvSx"
      },
      "source": [
        "## Importar datos"
      ]
    },
    {
      "cell_type": "markdown",
      "metadata": {
        "id": "0ipsuNMrBzKF"
      },
      "source": [
        "* ¿Podemos utilizar conjuntos de datos en Google Colab? De hecho, la manera más ordenada de hacerlo es importando los archivos de **Google Drive** y manejarlo como un sistemas de archivos *on premise* (o fuera de la nube).\n",
        "* En Google Colab tenemos disponibles **fragmentos de código** que nos ayudan en varias actividades. Para utilizarlos, vamos al menú *Insertar ➡ Fragmentos de código*"
      ]
    },
    {
      "cell_type": "code",
      "execution_count": null,
      "metadata": {
        "colab": {
          "base_uri": "https://localhost:8080/"
        },
        "id": "V9X8oL0NCypU",
        "outputId": "0c0a7575-fa0c-4cae-a5e3-1fbd3156b73d"
      },
      "outputs": [
        {
          "name": "stdout",
          "output_type": "stream",
          "text": [
            "Mounted at /gdrive\n"
          ]
        }
      ],
      "source": [
        "#Montar nuestro Google Drive en el entorno de Google Colab\n",
        "from google.colab import drive\n",
        "drive.mount('/gdrive')"
      ]
    },
    {
      "cell_type": "markdown",
      "metadata": {
        "id": "laxDGG6lC-VI"
      },
      "source": [
        "* Al ejecutar el código anterior, nuestra cuenta de Google nos preguntará si deseamos permitir que Google Colab acceda a nuestro Google Drive.\n",
        "* Esto nos permitirá tener acceso a las carpetas y archivos que tengamos almacenads en nuestra cuenta personal de Google Drive.\n",
        "* Para crear y manejar archivos directamente desde Google Colab podemos utilizar los comandos de **UNIX** que vimos anteriormente."
      ]
    },
    {
      "cell_type": "markdown",
      "metadata": {
        "id": "aL0RTQvNDezl"
      },
      "source": [
        "## Comandos básicos de UNIX en Google Colab"
      ]
    },
    {
      "cell_type": "markdown",
      "metadata": {
        "id": "ZlvBg5RuDlan"
      },
      "source": [
        "* En Googe Colab, podemos ejecutar los comandos de UNIX que vimos anteriormente con la ayuda de los operados `%` y `!`.\n",
        "* Solo podemos ejecutar 1 comando por celda."
      ]
    },
    {
      "cell_type": "markdown",
      "metadata": {
        "id": "woB67HIoD25T"
      },
      "source": [
        "### Navegación"
      ]
    },
    {
      "cell_type": "markdown",
      "metadata": {
        "id": "1_7sfx5nD6i3"
      },
      "source": [
        "* `pwd`, nos despliega la dirección completa del directo activo de trabajo (*printing working directory*, *pwd*)"
      ]
    },
    {
      "cell_type": "code",
      "execution_count": null,
      "metadata": {
        "colab": {
          "base_uri": "https://localhost:8080/",
          "height": 36
        },
        "id": "8QRCtjROEURH",
        "outputId": "49ff34cf-dd17-402f-91db-f2d14ae4abd9"
      },
      "outputs": [
        {
          "data": {
            "application/vnd.google.colaboratory.intrinsic+json": {
              "type": "string"
            },
            "text/plain": [
              "'/content'"
            ]
          },
          "execution_count": 3,
          "metadata": {},
          "output_type": "execute_result"
        }
      ],
      "source": [
        "%pwd"
      ]
    },
    {
      "cell_type": "markdown",
      "metadata": {
        "id": "AH0dlJHoEhv_"
      },
      "source": [
        "`ls`, enlista todos los archivos dentro del directorio activo de trabajo."
      ]
    },
    {
      "cell_type": "code",
      "execution_count": null,
      "metadata": {
        "colab": {
          "base_uri": "https://localhost:8080/"
        },
        "id": "7OdV2tLjEXGf",
        "outputId": "8d7e5ab4-e4c0-407f-fc57-2803a9579a88"
      },
      "outputs": [
        {
          "name": "stdout",
          "output_type": "stream",
          "text": [
            "\u001b[0m\u001b[01;34msample_data\u001b[0m/\n"
          ]
        }
      ],
      "source": [
        "%ls"
      ]
    },
    {
      "cell_type": "markdown",
      "metadata": {
        "id": "mDOULzptEl_B"
      },
      "source": [
        "`cd`, permite cambiarnos entre directorios."
      ]
    },
    {
      "cell_type": "code",
      "execution_count": null,
      "metadata": {
        "colab": {
          "base_uri": "https://localhost:8080/"
        },
        "id": "TxifJpWWErGW",
        "outputId": "bf036b75-8dd4-4bc7-a505-2cca213a59eb"
      },
      "outputs": [
        {
          "name": "stdout",
          "output_type": "stream",
          "text": [
            "/gdrive/MyDrive\n"
          ]
        }
      ],
      "source": [
        "%cd /gdrive/MyDrive"
      ]
    },
    {
      "cell_type": "markdown",
      "metadata": {
        "id": "B9CmAlt9E1ah"
      },
      "source": [
        "* Con el comando anterior, nos pudimos mover a la carpeta **MyDrive**, que es la que vemos cuando abrimos Google Drive en el manejador."
      ]
    },
    {
      "cell_type": "code",
      "execution_count": null,
      "metadata": {
        "colab": {
          "base_uri": "https://localhost:8080/"
        },
        "id": "MYeJMQbWExdN",
        "outputId": "86243f33-8373-492c-b0ca-c884f5d745e2"
      },
      "outputs": [
        {
          "name": "stdout",
          "output_type": "stream",
          "text": [
            "\u001b[0m\u001b[01;34m'Certificados de Cousera'\u001b[0m/  \u001b[01;34m'Colab Notebooks'\u001b[0m/   \u001b[01;34mProfesor\u001b[0m/\n"
          ]
        }
      ],
      "source": [
        "%ls"
      ]
    },
    {
      "cell_type": "markdown",
      "metadata": {
        "id": "e9DqZ2OwFDMx"
      },
      "source": [
        "###Crear y remover directorios"
      ]
    },
    {
      "cell_type": "markdown",
      "metadata": {
        "id": "MWyOA4diFHm_"
      },
      "source": [
        "`mkdir`, crea un directorio o carpeta."
      ]
    },
    {
      "cell_type": "code",
      "execution_count": null,
      "metadata": {
        "id": "NCsDQwcZFFvD"
      },
      "outputs": [],
      "source": [
        "%mkdir test"
      ]
    },
    {
      "cell_type": "code",
      "execution_count": null,
      "metadata": {
        "colab": {
          "base_uri": "https://localhost:8080/"
        },
        "id": "rzGfqFQYFOcI",
        "outputId": "00b4d723-fc83-4c02-9500-caaaf3687789"
      },
      "outputs": [
        {
          "name": "stdout",
          "output_type": "stream",
          "text": [
            "\u001b[0m\u001b[01;34m'Certificados de Cousera'\u001b[0m/  \u001b[01;34m'Colab Notebooks'\u001b[0m/   \u001b[01;34mProfesor\u001b[0m/   \u001b[01;34mtest\u001b[0m/\n"
          ]
        }
      ],
      "source": [
        "%ls"
      ]
    },
    {
      "cell_type": "markdown",
      "metadata": {
        "id": "FRkRIrhqFRZd"
      },
      "source": [
        "* `rmdir, nos permite eliminar una carpeta con el nombre que especifiquiemos. Es importante hacer notar que la carpeta tiene que estar vacía.\n",
        "* Si la carpeta no está vacía, podemos utilizar el comando `rm -r nombre_directorio`."
      ]
    },
    {
      "cell_type": "code",
      "execution_count": null,
      "metadata": {
        "id": "1JGFSxELFsLA"
      },
      "outputs": [],
      "source": [
        "%rmdir test"
      ]
    },
    {
      "cell_type": "code",
      "execution_count": null,
      "metadata": {
        "colab": {
          "base_uri": "https://localhost:8080/"
        },
        "id": "ulr-CBijFvdD",
        "outputId": "e6398229-9885-4fc8-d7bf-a414917a3806"
      },
      "outputs": [
        {
          "name": "stdout",
          "output_type": "stream",
          "text": [
            "\u001b[0m\u001b[01;34m'Certificados de Cousera'\u001b[0m/  \u001b[01;34m'Colab Notebooks'\u001b[0m/   \u001b[01;34mProfesor\u001b[0m/\n"
          ]
        }
      ],
      "source": [
        "%ls"
      ]
    },
    {
      "cell_type": "markdown",
      "metadata": {
        "id": "yKRdjdUAF1ac"
      },
      "source": [
        "####Ejercicio"
      ]
    },
    {
      "cell_type": "markdown",
      "metadata": {
        "id": "439ts0VYF9iB"
      },
      "source": [
        "Crea una carpeta llamada **my-files** y cambia el directorio activo a esa carpeta."
      ]
    },
    {
      "cell_type": "code",
      "execution_count": null,
      "metadata": {
        "id": "dDDsc9IqnQkA"
      },
      "outputs": [],
      "source": []
    },
    {
      "cell_type": "code",
      "execution_count": null,
      "metadata": {
        "id": "X9SyqIDHGHX9"
      },
      "outputs": [],
      "source": []
    },
    {
      "cell_type": "code",
      "execution_count": null,
      "metadata": {
        "id": "7PVZ1RpJGH3P"
      },
      "outputs": [],
      "source": []
    },
    {
      "cell_type": "markdown",
      "metadata": {
        "id": "0zTjYZEsGIl3"
      },
      "source": [
        "###Manejo de archivos"
      ]
    },
    {
      "cell_type": "markdown",
      "metadata": {
        "id": "XYXnXWRRGMGH"
      },
      "source": [
        "* `touch, crea un archivo vacío o actualiza la fecha de uno ya existente."
      ]
    },
    {
      "cell_type": "code",
      "execution_count": null,
      "metadata": {
        "id": "u713W4AhGWA6"
      },
      "outputs": [],
      "source": [
        "!touch text_file.txt"
      ]
    },
    {
      "cell_type": "code",
      "execution_count": null,
      "metadata": {
        "colab": {
          "base_uri": "https://localhost:8080/"
        },
        "id": "kv_34WOVGZ5b",
        "outputId": "4bb0f334-6bb9-4f27-f279-5a74f9ac07f0"
      },
      "outputs": [
        {
          "name": "stdout",
          "output_type": "stream",
          "text": [
            "\u001b[0m\u001b[01;34m'Certificados de Cousera'\u001b[0m/  \u001b[01;34m'Colab Notebooks'\u001b[0m/   \u001b[01;34mProfesor\u001b[0m/   text_file.txt\n"
          ]
        }
      ],
      "source": [
        "%ls"
      ]
    },
    {
      "cell_type": "markdown",
      "metadata": {
        "id": "oAmxm9UFOv43"
      },
      "source": [
        "* `echo`, sirve para desplegar una línea de texto en la consola. También la podemos usar para agregar líneas de texto a un archivo."
      ]
    },
    {
      "cell_type": "code",
      "execution_count": null,
      "metadata": {
        "id": "ohrdPRDqO6w7"
      },
      "outputs": [],
      "source": [
        "!echo \"Mi primera línea de texto\" >> text_file.txt"
      ]
    },
    {
      "cell_type": "code",
      "execution_count": null,
      "metadata": {
        "colab": {
          "base_uri": "https://localhost:8080/"
        },
        "id": "-Sn6eeyunm95",
        "outputId": "06def74d-b01f-47c3-a9ff-2ebe7b78b20a"
      },
      "outputs": [
        {
          "name": "stdout",
          "output_type": "stream",
          "text": [
            "'Certificados de Cousera'  'Colab Notebooks'   Profesor   text_file.txt\n"
          ]
        }
      ],
      "source": [
        "!ls"
      ]
    },
    {
      "cell_type": "code",
      "execution_count": null,
      "metadata": {
        "colab": {
          "base_uri": "https://localhost:8080/"
        },
        "id": "DlYlAPFrnprP",
        "outputId": "d292c9f7-4f80-42d8-8fcf-86adbeab48b7"
      },
      "outputs": [
        {
          "name": "stdout",
          "output_type": "stream",
          "text": [
            "Mi primera línea de texto\n"
          ]
        }
      ],
      "source": [
        "!cat text_file.txt"
      ]
    },
    {
      "cell_type": "markdown",
      "metadata": {
        "id": "UjmZdzkwPO0P"
      },
      "source": [
        "* `cp`, copia archivos o directorios"
      ]
    },
    {
      "cell_type": "code",
      "execution_count": null,
      "metadata": {
        "id": "a5dnBInqPUo1"
      },
      "outputs": [],
      "source": [
        "!cp text_file.txt text_file2.txt"
      ]
    },
    {
      "cell_type": "code",
      "execution_count": null,
      "metadata": {
        "colab": {
          "base_uri": "https://localhost:8080/"
        },
        "id": "IHULuru_PaZy",
        "outputId": "1b944d74-c3db-4cc1-b54c-138b8b52d09d"
      },
      "outputs": [
        {
          "name": "stdout",
          "output_type": "stream",
          "text": [
            "\u001b[0m\u001b[01;34m'Certificados de Cousera'\u001b[0m/  \u001b[01;34m'Colab Notebooks'\u001b[0m/   \u001b[01;34mProfesor\u001b[0m/   text_file2.txt   text_file.txt\n"
          ]
        }
      ],
      "source": [
        "%ls"
      ]
    },
    {
      "cell_type": "markdown",
      "metadata": {
        "id": "8XR8pMMZPkhU"
      },
      "source": [
        "* `mv`, permite mover y/o renombrar archivos de texto o directorios."
      ]
    },
    {
      "cell_type": "code",
      "execution_count": null,
      "metadata": {
        "id": "Cark74dtPqdx"
      },
      "outputs": [],
      "source": [
        "!mv text_file2.txt another_file.txt"
      ]
    },
    {
      "cell_type": "code",
      "execution_count": null,
      "metadata": {
        "colab": {
          "base_uri": "https://localhost:8080/"
        },
        "id": "sJbR_0OZPwTu",
        "outputId": "5f772ec1-13c6-4a49-8d9e-0b1a023679c4"
      },
      "outputs": [
        {
          "name": "stdout",
          "output_type": "stream",
          "text": [
            " another_file.txt  \u001b[0m\u001b[01;34m'Certificados de Cousera'\u001b[0m/  \u001b[01;34m'Colab Notebooks'\u001b[0m/   \u001b[01;34mProfesor\u001b[0m/   text_file.txt\n"
          ]
        }
      ],
      "source": [
        "%ls"
      ]
    },
    {
      "cell_type": "markdown",
      "metadata": {
        "id": "EXokm8KPP1kz"
      },
      "source": [
        "### Carga de archivos"
      ]
    },
    {
      "cell_type": "markdown",
      "metadata": {
        "id": "vFhl_p6SP3x3"
      },
      "source": [
        "* Para cargar archivos locales, utilizaremos el siguiente código:"
      ]
    },
    {
      "cell_type": "code",
      "execution_count": null,
      "metadata": {
        "colab": {
          "base_uri": "https://localhost:8080/",
          "height": 73
        },
        "id": "9lftNfWIP8q4",
        "outputId": "b383865f-8c13-4a65-85eb-c75026e64727"
      },
      "outputs": [
        {
          "data": {
            "text/html": [
              "\n",
              "     <input type=\"file\" id=\"files-47cd96e0-0355-49c0-9a16-7854cefe2ef9\" name=\"files[]\" multiple disabled\n",
              "        style=\"border:none\" />\n",
              "     <output id=\"result-47cd96e0-0355-49c0-9a16-7854cefe2ef9\">\n",
              "      Upload widget is only available when the cell has been executed in the\n",
              "      current browser session. Please rerun this cell to enable.\n",
              "      </output>\n",
              "      <script>// Copyright 2017 Google LLC\n",
              "//\n",
              "// Licensed under the Apache License, Version 2.0 (the \"License\");\n",
              "// you may not use this file except in compliance with the License.\n",
              "// You may obtain a copy of the License at\n",
              "//\n",
              "//      http://www.apache.org/licenses/LICENSE-2.0\n",
              "//\n",
              "// Unless required by applicable law or agreed to in writing, software\n",
              "// distributed under the License is distributed on an \"AS IS\" BASIS,\n",
              "// WITHOUT WARRANTIES OR CONDITIONS OF ANY KIND, either express or implied.\n",
              "// See the License for the specific language governing permissions and\n",
              "// limitations under the License.\n",
              "\n",
              "/**\n",
              " * @fileoverview Helpers for google.colab Python module.\n",
              " */\n",
              "(function(scope) {\n",
              "function span(text, styleAttributes = {}) {\n",
              "  const element = document.createElement('span');\n",
              "  element.textContent = text;\n",
              "  for (const key of Object.keys(styleAttributes)) {\n",
              "    element.style[key] = styleAttributes[key];\n",
              "  }\n",
              "  return element;\n",
              "}\n",
              "\n",
              "// Max number of bytes which will be uploaded at a time.\n",
              "const MAX_PAYLOAD_SIZE = 100 * 1024;\n",
              "\n",
              "function _uploadFiles(inputId, outputId) {\n",
              "  const steps = uploadFilesStep(inputId, outputId);\n",
              "  const outputElement = document.getElementById(outputId);\n",
              "  // Cache steps on the outputElement to make it available for the next call\n",
              "  // to uploadFilesContinue from Python.\n",
              "  outputElement.steps = steps;\n",
              "\n",
              "  return _uploadFilesContinue(outputId);\n",
              "}\n",
              "\n",
              "// This is roughly an async generator (not supported in the browser yet),\n",
              "// where there are multiple asynchronous steps and the Python side is going\n",
              "// to poll for completion of each step.\n",
              "// This uses a Promise to block the python side on completion of each step,\n",
              "// then passes the result of the previous step as the input to the next step.\n",
              "function _uploadFilesContinue(outputId) {\n",
              "  const outputElement = document.getElementById(outputId);\n",
              "  const steps = outputElement.steps;\n",
              "\n",
              "  const next = steps.next(outputElement.lastPromiseValue);\n",
              "  return Promise.resolve(next.value.promise).then((value) => {\n",
              "    // Cache the last promise value to make it available to the next\n",
              "    // step of the generator.\n",
              "    outputElement.lastPromiseValue = value;\n",
              "    return next.value.response;\n",
              "  });\n",
              "}\n",
              "\n",
              "/**\n",
              " * Generator function which is called between each async step of the upload\n",
              " * process.\n",
              " * @param {string} inputId Element ID of the input file picker element.\n",
              " * @param {string} outputId Element ID of the output display.\n",
              " * @return {!Iterable<!Object>} Iterable of next steps.\n",
              " */\n",
              "function* uploadFilesStep(inputId, outputId) {\n",
              "  const inputElement = document.getElementById(inputId);\n",
              "  inputElement.disabled = false;\n",
              "\n",
              "  const outputElement = document.getElementById(outputId);\n",
              "  outputElement.innerHTML = '';\n",
              "\n",
              "  const pickedPromise = new Promise((resolve) => {\n",
              "    inputElement.addEventListener('change', (e) => {\n",
              "      resolve(e.target.files);\n",
              "    });\n",
              "  });\n",
              "\n",
              "  const cancel = document.createElement('button');\n",
              "  inputElement.parentElement.appendChild(cancel);\n",
              "  cancel.textContent = 'Cancel upload';\n",
              "  const cancelPromise = new Promise((resolve) => {\n",
              "    cancel.onclick = () => {\n",
              "      resolve(null);\n",
              "    };\n",
              "  });\n",
              "\n",
              "  // Wait for the user to pick the files.\n",
              "  const files = yield {\n",
              "    promise: Promise.race([pickedPromise, cancelPromise]),\n",
              "    response: {\n",
              "      action: 'starting',\n",
              "    }\n",
              "  };\n",
              "\n",
              "  cancel.remove();\n",
              "\n",
              "  // Disable the input element since further picks are not allowed.\n",
              "  inputElement.disabled = true;\n",
              "\n",
              "  if (!files) {\n",
              "    return {\n",
              "      response: {\n",
              "        action: 'complete',\n",
              "      }\n",
              "    };\n",
              "  }\n",
              "\n",
              "  for (const file of files) {\n",
              "    const li = document.createElement('li');\n",
              "    li.append(span(file.name, {fontWeight: 'bold'}));\n",
              "    li.append(span(\n",
              "        `(${file.type || 'n/a'}) - ${file.size} bytes, ` +\n",
              "        `last modified: ${\n",
              "            file.lastModifiedDate ? file.lastModifiedDate.toLocaleDateString() :\n",
              "                                    'n/a'} - `));\n",
              "    const percent = span('0% done');\n",
              "    li.appendChild(percent);\n",
              "\n",
              "    outputElement.appendChild(li);\n",
              "\n",
              "    const fileDataPromise = new Promise((resolve) => {\n",
              "      const reader = new FileReader();\n",
              "      reader.onload = (e) => {\n",
              "        resolve(e.target.result);\n",
              "      };\n",
              "      reader.readAsArrayBuffer(file);\n",
              "    });\n",
              "    // Wait for the data to be ready.\n",
              "    let fileData = yield {\n",
              "      promise: fileDataPromise,\n",
              "      response: {\n",
              "        action: 'continue',\n",
              "      }\n",
              "    };\n",
              "\n",
              "    // Use a chunked sending to avoid message size limits. See b/62115660.\n",
              "    let position = 0;\n",
              "    do {\n",
              "      const length = Math.min(fileData.byteLength - position, MAX_PAYLOAD_SIZE);\n",
              "      const chunk = new Uint8Array(fileData, position, length);\n",
              "      position += length;\n",
              "\n",
              "      const base64 = btoa(String.fromCharCode.apply(null, chunk));\n",
              "      yield {\n",
              "        response: {\n",
              "          action: 'append',\n",
              "          file: file.name,\n",
              "          data: base64,\n",
              "        },\n",
              "      };\n",
              "\n",
              "      let percentDone = fileData.byteLength === 0 ?\n",
              "          100 :\n",
              "          Math.round((position / fileData.byteLength) * 100);\n",
              "      percent.textContent = `${percentDone}% done`;\n",
              "\n",
              "    } while (position < fileData.byteLength);\n",
              "  }\n",
              "\n",
              "  // All done.\n",
              "  yield {\n",
              "    response: {\n",
              "      action: 'complete',\n",
              "    }\n",
              "  };\n",
              "}\n",
              "\n",
              "scope.google = scope.google || {};\n",
              "scope.google.colab = scope.google.colab || {};\n",
              "scope.google.colab._files = {\n",
              "  _uploadFiles,\n",
              "  _uploadFilesContinue,\n",
              "};\n",
              "})(self);\n",
              "</script> "
            ],
            "text/plain": [
              "<IPython.core.display.HTML object>"
            ]
          },
          "metadata": {},
          "output_type": "display_data"
        },
        {
          "name": "stdout",
          "output_type": "stream",
          "text": [
            "Saving salida.txt to salida.txt\n"
          ]
        }
      ],
      "source": [
        "from google.colab import files\n",
        "uploaded = files.upload()"
      ]
    },
    {
      "cell_type": "markdown",
      "metadata": {
        "id": "cRB7QCiQP_6F"
      },
      "source": [
        "* Nos mostrará un botón para seleccionar el archivo y cargarlo. Este código, al igual que el anterior, lo podemos obtener de la sección *Fragmentos de código*."
      ]
    },
    {
      "cell_type": "code",
      "execution_count": null,
      "metadata": {
        "colab": {
          "base_uri": "https://localhost:8080/"
        },
        "id": "uBpRjD5IQN-h",
        "outputId": "ad97a683-ee6f-4dc0-cf0d-1d6b338cc02a"
      },
      "outputs": [
        {
          "name": "stdout",
          "output_type": "stream",
          "text": [
            " another_file.txt           \u001b[0m\u001b[01;34m'Colab Notebooks'\u001b[0m/   salida.txt\n",
            "\u001b[01;34m'Certificados de Cousera'\u001b[0m/   \u001b[01;34mProfesor\u001b[0m/           text_file.txt\n"
          ]
        }
      ],
      "source": [
        "%ls"
      ]
    }
  ],
  "metadata": {
    "colab": {
      "provenance": []
    },
    "kernelspec": {
      "display_name": "Python 3 (ipykernel)",
      "language": "python",
      "name": "python3"
    },
    "language_info": {
      "codemirror_mode": {
        "name": "ipython",
        "version": 3
      },
      "file_extension": ".py",
      "mimetype": "text/x-python",
      "name": "python",
      "nbconvert_exporter": "python",
      "pygments_lexer": "ipython3",
      "version": "3.10.12"
    }
  },
  "nbformat": 4,
  "nbformat_minor": 0
}